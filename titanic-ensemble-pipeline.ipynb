{
 "cells": [
  {
   "cell_type": "markdown",
   "metadata": {},
   "source": [
    "### Imports"
   ]
  },
  {
   "cell_type": "code",
   "execution_count": 22,
   "metadata": {},
   "outputs": [],
   "source": [
    "import boto3\n",
    "import numpy as np\n",
    "import pandas as pd\n",
    "import sagemaker\n",
    "import re\n",
    "\n",
    "from time import gmtime, strftime\n",
    "\n",
    "from sagemaker import get_execution_role\n",
    "from sagemaker.model import Model\n",
    "from sagemaker.pipeline import PipelineModel\n",
    "from sagemaker.sklearn.estimator import SKLearn\n",
    "\n",
    "from sklearn.base import BaseEstimator, TransformerMixin\n",
    "from sklearn.preprocessing import Normalizer, OneHotEncoder, StandardScaler, OrdinalEncoder\n",
    "from sklearn.preprocessing import KBinsDiscretizer\n",
    "\n",
    "from sklearn.ensemble import RandomForestClassifier, VotingClassifier\n",
    "from sklearn.svm import SVC\n",
    "from sklearn.linear_model import LogisticRegression"
   ]
  },
  {
   "cell_type": "markdown",
   "metadata": {},
   "source": [
    "### Environment Setup"
   ]
  },
  {
   "cell_type": "code",
   "execution_count": 23,
   "metadata": {},
   "outputs": [],
   "source": [
    "BUCKET = 'bf-titanic-model'\n",
    "\n",
    "sagemaker_session = sagemaker.Session()\n",
    "role = get_execution_role()"
   ]
  },
  {
   "cell_type": "markdown",
   "metadata": {},
   "source": [
    "### Create Feature Pipeline"
   ]
  },
  {
   "cell_type": "code",
   "execution_count": 24,
   "metadata": {},
   "outputs": [],
   "source": [
    "def get_title(name):\n",
    "    title_search = re.search(r'([A-Za-z]+)\\.', name)\n",
    "    if title_search:\n",
    "        return title_search.group(1)\n",
    "    return ''"
   ]
  },
  {
   "cell_type": "code",
   "execution_count": 25,
   "metadata": {},
   "outputs": [],
   "source": [
    "def replace_titles(title):\n",
    "    if title in ['Lady', 'Countess','Capt', 'Col','Don', 'Dr', 'Major', 'Rev', 'Sir', 'Jonkheer', 'Dona']:\n",
    "        return 'Rare'\n",
    "    elif title in ['Countess', 'Mme']:\n",
    "        return 'Mrs'\n",
    "    elif title in ['Mlle', 'Ms']:\n",
    "        return 'Miss'\n",
    "    elif title =='Dr':\n",
    "        if x['Sex']=='Male':\n",
    "            return 'Mr'\n",
    "        else:\n",
    "            return 'Mrs'\n",
    "    else:\n",
    "        return title"
   ]
  },
  {
   "cell_type": "code",
   "execution_count": 26,
   "metadata": {},
   "outputs": [],
   "source": [
    "def feature_eng(X):\n",
    "    # Rename Categorical Columns\n",
    "    \n",
    "    # Create title feature\n",
    "    X['Title'] = X['Name'].apply(get_title)\n",
    "    X['Title'] = X['Title'].fillna('Miss')\n",
    "    X['Title'] = X['Title'].apply(replace_titles)\n",
    "    \n",
    "    # Drop Name\n",
    "    X.drop('Name', axis=1, inplace=True)\n",
    "    \n",
    "    #Impute Age\n",
    "    X.loc[X.Age.isnull(), 'Age'] = X.groupby(['Sex','Pclass','Title']).Age.transform('median')\n",
    "    \n",
    "    # Convert Pclass\n",
    "    X['Pclass'] = X['Pclass'].apply(lambda x: 'first' if x==1 else 'second' if x==2 else 'third')\n",
    "    \n",
    "    # Create Age Bins\n",
    "    binner = KBinsDiscretizer(encode='ordinal')\n",
    "    binner.fit(X[['Age']])\n",
    "    X['AgeBins'] = binner.transform(X[['Age']])\n",
    "    \n",
    "    # Create family size feature\n",
    "    X['FamilySize'] = X['SibSp'] + X['Parch'] + 1\n",
    "    \n",
    "    # Family size mapping\n",
    "    family_map = {1: 'Alone', 2: 'Small', 3: 'Small', 4: 'Small', \n",
    "                  5: 'Large', 6: 'Large', 7: 'Large', 8: 'Large', 11: 'Large'}\n",
    "    X['GroupSize'] = X['FamilySize'].map(family_map)\n",
    "    \n",
    "    # With Family Feature\n",
    "    X['WithFamily'] = (X['FamilySize']>1)\n",
    "    X['WithFamily'] = X['WithFamily'].apply(lambda x: 'yes' if x==1 else 'no')\n",
    "    \n",
    "    # Impute Fares\n",
    "    X.loc[(X.Fare.isnull()), 'Fare'] = X.Fare.median()\n",
    "    X.loc[(X.Fare==0), 'Fare'] = X.Fare.median()\n",
    "    \n",
    "    # Create Fare Bins\n",
    "    binner.fit(X[['Fare']])\n",
    "    X['FareBins'] = binner.transform(X[['Fare']])\n",
    "    \n",
    "    # Create deck and room features\n",
    "    X[\"Deck\"] = X[\"Cabin\"].str.slice(0,1)\n",
    "    X[\"Deck\"] = X[\"Deck\"].fillna(\"N\")\n",
    "    idx = X[X['Deck'] == 'T'].index\n",
    "    X.loc[idx, 'Deck'] = 'A'\n",
    "    \n",
    "    X[\"Room\"] = X[\"Cabin\"].str.slice(1,5).str.extract(\"([0-9]+)\", expand=False)\n",
    "    X['Room'] = X['Room'].astype(str)\n",
    "    X[\"Room\"] = X[\"Room\"].fillna('None')\n",
    "    \n",
    "    # Drop Cabin\n",
    "    X.drop('Cabin', axis=1, inplace=True)\n",
    "    \n",
    "    # Impute Embarked\n",
    "    encoder=OrdinalEncoder()\n",
    "    X['Embarked'].fillna(X['Embarked'].mode()[0], inplace=True)\n",
    "\n",
    "    # Add some log features\n",
    "    X['LogAge'] = np.log(X['Age'])\n",
    "    X['LogFare'] = np.log(X['Fare'])\n",
    "    X['LogFamilySize'] = np.log(X['Fare'])\n",
    "    \n",
    "    # Add scaled features\n",
    "    scaler = StandardScaler()\n",
    "    scaler.fit(X[['Age']])\n",
    "    X['AgeScaled'] = scaler.transform(X[['Age']])\n",
    "    \n",
    "    scaler.fit(X[['Fare']])\n",
    "    X['FareScaled'] = scaler.transform(X[['Fare']])\n",
    "    \n",
    "    scaler.fit(X[['FamilySize']])\n",
    "    X['FareScaled'] = scaler.transform(X[['Fare']])\n",
    "    \n",
    "    # Get Dummies\n",
    "    X = pd.get_dummies(X, prefix='dummy', drop_first=True)\n",
    "    X.drop('PassengerId', axis=1, inplace=True)\n",
    "    X.drop('Age', axis=1, inplace=True)\n",
    "    X.drop('Parch', axis=1, inplace=True)\n",
    "    X.drop('SibSp', axis=1, inplace=True)\n",
    "    X.drop('Fare', axis=1, inplace=True)\n",
    "    return X"
   ]
  },
  {
   "cell_type": "markdown",
   "metadata": {},
   "source": [
    "### Create Inference Pipeline"
   ]
  },
  {
   "cell_type": "code",
   "execution_count": null,
   "metadata": {},
   "outputs": [],
   "source": [
    "script_path = 'path to featurizer'"
   ]
  }
 ],
 "metadata": {
  "kernelspec": {
   "display_name": "conda_python3",
   "language": "python",
   "name": "conda_python3"
  },
  "language_info": {
   "codemirror_mode": {
    "name": "ipython",
    "version": 3
   },
   "file_extension": ".py",
   "mimetype": "text/x-python",
   "name": "python",
   "nbconvert_exporter": "python",
   "pygments_lexer": "ipython3",
   "version": "3.6.10"
  }
 },
 "nbformat": 4,
 "nbformat_minor": 4
}
